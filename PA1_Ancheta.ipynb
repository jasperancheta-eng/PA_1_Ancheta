{
 "cells": [
  {
   "cell_type": "markdown",
   "id": "3fc78f4d-2946-4432-97f2-ed01a4ed4e21",
   "metadata": {},
   "source": [
    "ALPHABET SOUP PROBLEM"
   ]
  },
  {
   "cell_type": "code",
   "execution_count": 3,
   "id": "6a3967ab-32a6-466b-96f4-0d029f22425c",
   "metadata": {},
   "outputs": [
    {
     "name": "stdout",
     "output_type": "stream",
     "text": [
      "aejprs\n"
     ]
    }
   ],
   "source": [
    "# Define a function called alpha that takes a string input 'x'\n",
    "def alpha(x):\n",
    "    # Sort the characters in the string 'x' alphabetically\n",
    "    return ''.join(sorted(x))\n",
    "\n",
    "# Test the function by passing the string 'jasper'\n",
    "print(alpha('jasper'))  # Output: 'aejprs'"
   ]
  },
  {
   "cell_type": "markdown",
   "id": "19fa0c28-d7c5-495c-a15e-938805202629",
   "metadata": {},
   "source": [
    "EMOTICON PROBLEM"
   ]
  },
  {
   "cell_type": "code",
   "execution_count": 4,
   "id": "2896e818-fbee-4d2d-94b5-796f1741fa5f",
   "metadata": {},
   "outputs": [
    {
     "name": "stdout",
     "output_type": "stream",
     "text": [
      "I am :D\n"
     ]
    }
   ],
   "source": [
    "# Define a function called remoticon that takes a string input 'sentence'\n",
    "def remoticon(sentence):\n",
    "    # Create a dictionary that maps words to their corresponding emoticons\n",
    "    emo_dict = {\n",
    "        'smile': ':)',\n",
    "        'grin': ':D',\n",
    "        'sad': ':((',\n",
    "        'mad': '>:('\n",
    "    }\n",
    "    \n",
    "    # Loop through each word–emoticon pair in the dictionary\n",
    "    for word, emoticon in emo_dict.items():\n",
    "        # Replace occurrences of the word in the sentence with its emoticon\n",
    "        sentence = sentence.replace(word, emoticon)\n",
    "    \n",
    "    # Return the updated sentence with emoticons\n",
    "    return sentence\n",
    "\n",
    "# Test the function with an example input\n",
    "print(remoticon('I am grin'))  # Output: I am :D"
   ]
  },
  {
   "cell_type": "raw",
   "id": "cfab4b6a-f87c-495d-9fdf-8d371c3da28f",
   "metadata": {},
   "source": [
    "UNPACKING LIST PROBLEM"
   ]
  },
  {
   "cell_type": "code",
   "execution_count": 5,
   "id": "e07917f4-ad58-4351-a526-1491c53f7ec0",
   "metadata": {},
   "outputs": [
    {
     "name": "stdout",
     "output_type": "stream",
     "text": [
      "First: 1\n",
      "\n",
      "Middle: [2, 3, 4, 5]\n",
      "\n",
      "last: 6\n",
      "\n"
     ]
    }
   ],
   "source": [
    "# Create a list with numbers from 1 to 6\n",
    "writeyourcodehere = [1, 2, 3, 4, 5, 6]\n",
    "\n",
    "\n",
    "# 'first' gets the first element\n",
    "# 'last' gets the last element\n",
    "# '*middle' collects all remaining elements in between\n",
    "first, *middle, last = writeyourcodehere\n",
    "\n",
    "# Print the first element\n",
    "print('First:', first)\n",
    "print()\n",
    "\n",
    "# Print the middle elements as a list\n",
    "print('Middle:', middle)\n",
    "print()\n",
    "\n",
    "# Print the last element\n",
    "print('last:', last)\n",
    "print()"
   ]
  },
  {
   "cell_type": "code",
   "execution_count": null,
   "id": "eb01b3b4-3057-4b0c-991e-f30d40fbefb4",
   "metadata": {},
   "outputs": [],
   "source": []
  }
 ],
 "metadata": {
  "kernelspec": {
   "display_name": "Python 3 (ipykernel)",
   "language": "python",
   "name": "python3"
  },
  "language_info": {
   "codemirror_mode": {
    "name": "ipython",
    "version": 3
   },
   "file_extension": ".py",
   "mimetype": "text/x-python",
   "name": "python",
   "nbconvert_exporter": "python",
   "pygments_lexer": "ipython3",
   "version": "3.13.5"
  }
 },
 "nbformat": 4,
 "nbformat_minor": 5
}
